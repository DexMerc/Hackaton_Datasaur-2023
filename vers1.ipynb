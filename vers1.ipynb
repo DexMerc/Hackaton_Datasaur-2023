{
  "cells": [
    {
      "cell_type": "code",
      "execution_count": null,
      "metadata": {
        "colab": {
          "base_uri": "https://localhost:8080/"
        },
        "id": "Lvb1I2Pob0J3",
        "outputId": "05bf510e-6563-451d-a533-709c7323315c"
      },
      "outputs": [
        {
          "name": "stdout",
          "output_type": "stream",
          "text": [
            "Mounted at /content/gdrive\n"
          ]
        }
      ],
      "source": [
        "from google.colab import drive\n",
        "drive.mount('/content/gdrive')"
      ]
    },
    {
      "cell_type": "code",
      "execution_count": null,
      "metadata": {
        "colab": {
          "base_uri": "https://localhost:8080/"
        },
        "id": "V1inKesGcxwK",
        "outputId": "69f570b4-9403-449d-c8a3-f3356927ff79"
      },
      "outputs": [],
      "source": [
        "!unzip \"/content/gdrive/MyDrive/Datasaur/case3-datasaur-photo.zip\" -d \"/content/gdrive/MyDrive/Datasaur/\""
      ]
    },
    {
      "cell_type": "code",
      "execution_count": null,
      "metadata": {
        "id": "2-oPGLN5cocW"
      },
      "outputs": [],
      "source": [
        "import numpy as np\n",
        "import os\n",
        "from PIL import Image\n",
        "import matplotlib.pyplot as plt\n",
        "import albumentations as A\n",
        "import pandas as pd\n",
        "import tensorflow as tf\n",
        "# from tensorflow.keras.applications import VGG16, EfficientNetB1\n",
        "from tensorflow.keras.applications import EfficientNetB2\n",
        "from tensorflow.keras.models import Sequential\n",
        "from tensorflow.keras.layers import Dense, Flatten, Dropout\n",
        "from tensorflow.keras.optimizers import Adam\n",
        "from tensorflow.keras.preprocessing.image import ImageDataGenerator"
      ]
    },
    {
      "cell_type": "code",
      "execution_count": null,
      "metadata": {
        "id": "vC_9gOOVidJA"
      },
      "outputs": [],
      "source": [
        "# Check if GPU is available and set it as the device\n",
        "gpus = tf.config.experimental.list_physical_devices('GPU')\n",
        "if gpus:\n",
        "    tf.config.experimental.set_memory_growth(gpus[0], True)\n",
        "    tf.config.experimental.set_visible_devices(gpus[0], 'GPU')"
      ]
    },
    {
      "cell_type": "code",
      "execution_count": null,
      "metadata": {
        "id": "9v2MZgTdctwQ"
      },
      "outputs": [],
      "source": [
        "dts_folder = \"/content/gdrive/MyDrive/Datasaur/techosmotr/techosmotr/\""
      ]
    },
    {
      "cell_type": "code",
      "execution_count": null,
      "metadata": {
        "id": "las8uhl2dUpn"
      },
      "outputs": [],
      "source": [
        "aug_basic = A.Compose([\n",
        "  A.RandomCropFromBorders(crop_left=0.1, crop_right=0.1, p=0.8),\n",
        "  A.Resize(224, 224)\n",
        "])\n",
        "\n",
        "aug_pipe = A.Compose([\n",
        "    A.HorizontalFlip(p=0.5),\n",
        "    A.RandomBrightnessContrast(p=0.2),\n",
        "    A.SafeRotate(limit=[-45,45], p=0.2),\n",
        "    A.Blur(blur_limit=2, p=0.1),\n",
        "    A.Resize(224, 224)\n",
        "])"
      ]
    },
    {
      "cell_type": "code",
      "execution_count": null,
      "metadata": {
        "id": "0HlIbRqSdXcs"
      },
      "outputs": [],
      "source": [
        "def load_train_images_from_folder(folder):\n",
        "    folder = os.path.join(folder,\"train\")\n",
        "    images = []\n",
        "    labels = []\n",
        "    for dir in os.listdir(folder):\n",
        "        for sub_dir in os.listdir(os.path.join(folder,dir)):\n",
        "            for filename in os.listdir(os.path.join(folder,dir, sub_dir)):\n",
        "                image_path = os.path.join(folder,dir, sub_dir, filename)\n",
        "                label = 1 if int(sub_dir.split('-')[0]) > 0 else 0\n",
        "                image = Image.open(image_path)\n",
        "                augmented = aug_pipe(image=np.array(image))\n",
        "                augmented_image = augmented['image']\n",
        "                image = aug_basic(image=np.array(image))\n",
        "                image = image['image']\n",
        "                images.append(image)\n",
        "                labels.append(label)\n",
        "                del image\n",
        "                images.append(augmented_image)\n",
        "                labels.append(label)\n",
        "                del augmented_image\n",
        "                # augmented = aug_pipe(image=np.array(image))\n",
        "                # augmented_image = augmented['image']\n",
        "                # images.append(augmented_image)\n",
        "                # labels.append(label)\n",
        "    return np.array(images), np.array(labels)"
      ]
    },
    {
      "cell_type": "code",
      "execution_count": null,
      "metadata": {
        "colab": {
          "base_uri": "https://localhost:8080/"
        },
        "id": "UGrJjOblddPs",
        "outputId": "d0956857-1a3a-497b-9aa3-e56dcb7f7fb6"
      },
      "outputs": [
        {
          "name": "stdout",
          "output_type": "stream",
          "text": [
            "(13170, 224, 224, 3) (13170,)\n"
          ]
        }
      ],
      "source": [
        "x_train, y_train = load_train_images_from_folder(dts_folder)\n",
        "print(x_train.shape, y_train.shape)"
      ]
    },
    {
      "cell_type": "code",
      "execution_count": null,
      "metadata": {
        "id": "A0gZvoNgdgyF"
      },
      "outputs": [],
      "source": [
        "conv_base = EfficientNetB2(weights='imagenet', include_top=False, input_shape=(224, 224, 3))"
      ]
    },
    {
      "cell_type": "code",
      "execution_count": null,
      "metadata": {
        "id": "Qz2bK2xEeFG2"
      },
      "outputs": [],
      "source": [
        "model = Sequential([\n",
        "    conv_base,\n",
        "    Flatten(),\n",
        "    Dense(512, activation='relu'),\n",
        "    Dense(256, activation='relu'),\n",
        "    Dense(1, activation='sigmoid')\n",
        "])\n",
        "\n",
        "model.compile(optimizer=Adam(), loss='binary_crossentropy', metrics=['accuracy'])"
      ]
    },
    {
      "cell_type": "code",
      "execution_count": null,
      "metadata": {
        "id": "DEggf24cgpu0"
      },
      "outputs": [],
      "source": [
        "from sklearn.model_selection import train_test_split\n",
        "\n",
        "val_split = 0.1\n",
        "x_train, x_val, y_train, y_val = train_test_split(x_train, y_train, test_size=val_split, shuffle=True, stratify=y_train)\n",
        "\n",
        "\n",
        "X = np.concatenate((x_train, x_val))\n",
        "del x_train, x_val\n",
        "y = np.concatenate((y_train, y_val))\n",
        "del y_train, y_val\n"
      ]
    },
    {
      "cell_type": "code",
      "execution_count": null,
      "metadata": {
        "id": "su_i9lJ-eXH9"
      },
      "outputs": [],
      "source": [
        "from keras.callbacks import EarlyStopping\n",
        "es = EarlyStopping(monitor='val_loss', mode='min', verbose=1, patience=3)"
      ]
    },
    {
      "cell_type": "code",
      "execution_count": null,
      "metadata": {
        "id": "xvurBxbfeMs0"
      },
      "outputs": [],
      "source": [
        "history = model.fit(\n",
        "    X, y,\n",
        "    epochs=20,\n",
        "    batch_size = 64,\n",
        "    validation_split=val_split,\n",
        "    callbacks=[es],\n",
        ")"
      ]
    },
    {
      "cell_type": "code",
      "execution_count": null,
      "metadata": {
        "id": "_sCjzedQejty"
      },
      "outputs": [],
      "source": [
        "res = pd.read_csv(\"/content/gdrive/MyDrive/Datasaur/test.csv\", header=0)\n",
        "res['class'] = None\n",
        "\n",
        "for inx, row in res.iterrows():\n",
        "  id_value = row['file_index']\n",
        "  img_path = os.path.join(dts_folder, \"test\", str(id_value)+\".jpeg\")\n",
        "  image = Image.open(img_path)\n",
        "  aug_test = aug_basic(image=np.array(image))\n",
        "  aug_img = aug_test['image']\n",
        "  aug_img = aug_img.reshape(1, aug_img.shape[0],aug_img.shape[1],aug_img.shape[2])\n",
        "  pred = model.predict(aug_img, verbose=0)\n",
        "  pred = (pred>0.5).astype(int)\n",
        "  res.at[inx,'class'] = pred[0][0]\n",
        "\n"
      ]
    },
    {
      "cell_type": "code",
      "execution_count": null,
      "metadata": {
        "id": "p3yQhodAoIMd"
      },
      "outputs": [],
      "source": [
        "res.head()"
      ]
    },
    {
      "cell_type": "code",
      "execution_count": null,
      "metadata": {
        "id": "1DDpf_c8qlZM"
      },
      "outputs": [],
      "source": [
        "res.to_csv(\"out_1023_colab.csv\",index=False)"
      ]
    },
    {
      "cell_type": "code",
      "execution_count": null,
      "metadata": {
        "id": "-UZ9by5FqpUh"
      },
      "outputs": [],
      "source": [
        "model.save(\"model_2255_0129.keras\")"
      ]
    }
  ],
  "metadata": {
    "accelerator": "GPU",
    "colab": {
      "gpuType": "T4",
      "provenance": []
    },
    "kernelspec": {
      "display_name": "Python 3",
      "name": "python3"
    },
    "language_info": {
      "name": "python"
    }
  },
  "nbformat": 4,
  "nbformat_minor": 0
}
